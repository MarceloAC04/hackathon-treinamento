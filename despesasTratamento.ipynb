{
 "cells": [
  {
   "cell_type": "code",
   "execution_count": 16,
   "metadata": {},
   "outputs": [],
   "source": [
    "import pandas as pd\n",
    "\n",
    "df_despesa = pd.read_excel(\"Despesas.xlsx\")"
   ]
  },
  {
   "cell_type": "code",
   "execution_count": 17,
   "metadata": {},
   "outputs": [
    {
     "name": "stdout",
     "output_type": "stream",
     "text": [
      "0    18-08-2024\n",
      "1    15-09-2024\n",
      "2    22-08-2024\n",
      "3    02-09-2024\n",
      "4    02-02-2025\n",
      "5    08-01-2025\n",
      "6    07-08-2024\n",
      "7    10-08-2024\n",
      "8    19-06-2024\n",
      "9    29-01-2025\n",
      "Name: data, dtype: object\n"
     ]
    }
   ],
   "source": [
    "df_despesa['data'] = pd.to_datetime(df_despesa['data'], unit='ms').dt.strftime('%d-%m-%Y')\n",
    "print(df_despesa['data'].head(10))"
   ]
  },
  {
   "cell_type": "code",
   "execution_count": 18,
   "metadata": {},
   "outputs": [
    {
     "name": "stdout",
     "output_type": "stream",
     "text": [
      "0      11670.10\n",
      "1      17394.82\n",
      "2      19787.46\n",
      "3       2159.77\n",
      "4       7390.20\n",
      "         ...   \n",
      "195    15225.10\n",
      "196    16460.68\n",
      "197    12795.28\n",
      "198     9634.17\n",
      "199    13022.00\n",
      "Name: valor, Length: 200, dtype: float64\n"
     ]
    }
   ],
   "source": [
    "df_despesa['valor'] = df_despesa['valor'].astype(float)\n",
    "print(df_despesa['valor'])"
   ]
  },
  {
   "cell_type": "code",
   "execution_count": 19,
   "metadata": {},
   "outputs": [
    {
     "name": "stdout",
     "output_type": "stream",
     "text": [
      "0     11670.10\n",
      "1     17394.82\n",
      "2     19787.46\n",
      "3      2159.77\n",
      "4      7390.20\n",
      "5      5786.35\n",
      "6     12713.59\n",
      "7     11286.99\n",
      "8       398.20\n",
      "9     10511.56\n",
      "10    14855.00\n",
      "11    14020.35\n",
      "12    15504.96\n",
      "13    10878.01\n",
      "14     6450.78\n",
      "15    12751.82\n",
      "16      585.82\n",
      "17    15605.07\n",
      "18    11327.78\n",
      "19     6849.85\n",
      "Name: valor, dtype: float64\n"
     ]
    },
    {
     "name": "stderr",
     "output_type": "stream",
     "text": [
      "C:\\Users\\48260449846\\AppData\\Local\\Temp\\ipykernel_13340\\375291509.py:1: FutureWarning: A value is trying to be set on a copy of a DataFrame or Series through chained assignment using an inplace method.\n",
      "The behavior will change in pandas 3.0. This inplace method will never work because the intermediate object on which we are setting values always behaves as a copy.\n",
      "\n",
      "For example, when doing 'df[col].method(value, inplace=True)', try using 'df.method({col: value}, inplace=True)' or df[col] = df[col].method(value) instead, to perform the operation inplace on the original object.\n",
      "\n",
      "\n",
      "  df_despesa['valor'].fillna(df_despesa['valor'].mean(), inplace=True)\n"
     ]
    }
   ],
   "source": [
    "df_despesa['valor'].fillna(df_despesa['valor'].mean(), inplace=True)\n",
    "df_despesa['valor'] = df_despesa['valor'].round(2)\n",
    "print(df_despesa['valor'].head(20))"
   ]
  },
  {
   "cell_type": "code",
   "execution_count": 20,
   "metadata": {},
   "outputs": [
    {
     "name": "stdout",
     "output_type": "stream",
     "text": [
      "0                 Teixeira\n",
      "1                    Nunes\n",
      "2                Moura S/A\n",
      "3                   Barros\n",
      "4              Mendes - Ei\n",
      "5     Da Rocha Vargas - Ei\n",
      "6                  Sá - Ei\n",
      "7                    Jesus\n",
      "8                Rodrigues\n",
      "9                   Cirino\n",
      "10               Rodrigues\n",
      "11                    Dias\n",
      "12                      Sá\n",
      "13                Cassiano\n",
      "14     Andrade Vieira S.A.\n",
      "15                Nogueira\n",
      "16                Nogueira\n",
      "17              Viana - Me\n",
      "18                 Cardoso\n",
      "19                  Novaes\n",
      "Name: fornecedor, dtype: object\n"
     ]
    },
    {
     "name": "stderr",
     "output_type": "stream",
     "text": [
      "C:\\Users\\48260449846\\AppData\\Local\\Temp\\ipykernel_13340\\2198179348.py:2: FutureWarning: A value is trying to be set on a copy of a DataFrame or Series through chained assignment using an inplace method.\n",
      "The behavior will change in pandas 3.0. This inplace method will never work because the intermediate object on which we are setting values always behaves as a copy.\n",
      "\n",
      "For example, when doing 'df[col].method(value, inplace=True)', try using 'df.method({col: value}, inplace=True)' or df[col] = df[col].method(value) instead, to perform the operation inplace on the original object.\n",
      "\n",
      "\n",
      "  df_despesa['fornecedor'].fillna(df_despesa['fornecedor'].mode()[0], inplace=True)\n"
     ]
    }
   ],
   "source": [
    "df_despesa['fornecedor'] = df_despesa['fornecedor'].str.title()\n",
    "df_despesa['fornecedor'].fillna(df_despesa['fornecedor'].mode()[0], inplace=True)\n",
    "print(df_despesa['fornecedor'].head(20))"
   ]
  },
  {
   "cell_type": "code",
   "execution_count": 21,
   "metadata": {},
   "outputs": [],
   "source": [
    "df_despesa.to_excel(\"Despesas_Tratadas.xlsx\", index=False)"
   ]
  }
 ],
 "metadata": {
  "kernelspec": {
   "display_name": "Python 3",
   "language": "python",
   "name": "python3"
  },
  "language_info": {
   "codemirror_mode": {
    "name": "ipython",
    "version": 3
   },
   "file_extension": ".py",
   "mimetype": "text/x-python",
   "name": "python",
   "nbconvert_exporter": "python",
   "pygments_lexer": "ipython3",
   "version": "3.12.1"
  }
 },
 "nbformat": 4,
 "nbformat_minor": 2
}
